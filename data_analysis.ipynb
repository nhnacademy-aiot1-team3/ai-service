{
 "cells": [
  {
   "cell_type": "markdown",
   "metadata": {},
   "source": [
    "# AI 모델 구현: 온도 및 전령량 예측\n",
    "\n",
    "온도 및 사용된 전령량을 예측하고 각 센서의 예측값을 REST API로 통해 반환할 수 있도록 구현하였습니다.\n",
    "\n",
    "---\n",
    "\n",
    "## 1. Import"
   ]
  },
  {
   "cell_type": "code",
   "execution_count": null,
   "metadata": {},
   "outputs": [],
   "source": [
    "from influxdb_client import InfluxDBClient\n",
    "import pandas as pd\n",
    "import matplotlib.pyplot as plt\n",
    "import seaborn as sns\n",
    "import numpy as np\n",
    "from sklearn.linear_model import LinearRegression\n",
    "from sklearn.model_selection import train_test_split\n",
    "from sklearn.metrics import explained_variance_score, mean_absolute_error, mean_squared_error, r2_score\n",
    "from sklearn.ensemble import RandomForestRegressor\n",
    "import pmdarima as pm\n",
    "from tensorflow.keras.models import Sequential  # type: ignore\n",
    "from tensorflow.keras.layers import LSTM, Dense  # type: ignore\n",
    "from dotenv import load_dotenv\n",
    "import os"
   ]
  },
  {
   "cell_type": "markdown",
   "metadata": {},
   "source": [
    "## 2. 데이터 수집\n",
    "\n",
    "- ### 환경 변수 적용하기"
   ]
  },
  {
   "cell_type": "code",
   "execution_count": null,
   "metadata": {},
   "outputs": [],
   "source": [
    "# InfluxDB 접속 정보 불러오기\n",
    "load_dotenv('parameters.env')\n",
    "\n",
    "DB_URL = os.getenv('DB_URL')\n",
    "DB_TOKEN = os.getenv('DB_TOKEN')\n",
    "DB_ORG = os.getenv('DB_ORG')\n",
    "DB_BUCKET = os.getenv('DB_BUCKET')"
   ]
  },
  {
   "cell_type": "markdown",
   "metadata": {},
   "source": [
    "- ### InfluxDB에 접속하여 필요한 센서 데이터 가져오기"
   ]
  },
  {
   "cell_type": "code",
   "execution_count": null,
   "metadata": {},
   "outputs": [],
   "source": [
    "# 온도 데이터 가져오기\n",
    "def query_sensor_data(self, branch):\n",
    "    query_api = self.client.query_api()\n",
    "    \n",
    "    query = f'from(bucket: \"{self.bucket}\")\\\n",
    "        |> range(start: -3d)\\\n",
    "        |> filter(fn: (r) => r.branch == \"{branch}\")\\\n",
    "        |> filter(fn: (r) => r[\"endpoint\"] == \"{self.sensor_type}\")\\\n",
    "        |> aggregateWindow(every: 1m, fn: mean, createEmpty: false)\\\n",
    "        |> yield(name: \"sensor_value\")'\n",
    "    \n",
    "    print(\"Query: \",query)\n",
    "    result_df = query_api.query_data_frame(query=query)\n",
    "    return result_df"
   ]
  },
  {
   "cell_type": "code",
   "execution_count": null,
   "metadata": {},
   "outputs": [],
   "source": [
    "# 전력량 데이터 가져오기\n",
    "def query_energy(self, branch):\n",
    "    query_api = self.client.query_api()\n",
    "\n",
    "    query = f'from(bucket: \"{self.bucket}\")\\\n",
    "            |> range(start: -3d)\\\n",
    "            |> filter(fn: (r) => r[\"branch\"] == \"{branch}\")\\\n",
    "            |> filter(fn: (r) => r[\"endpoint\"] == \"{self.sensor_type}\")\\\n",
    "            |> filter(fn: (r) => r[\"phase\"] == \"total\")\\\n",
    "            |> filter(fn: (r) => r[\"description\"] == \"w\")\\\n",
    "            |> group(columns: [\"site\"])\\\n",
    "            |> aggregateWindow(every: 1m, fn: mean, createEmpty: false)\\\n",
    "            |> yield(name: \"sensor_value\")'\n",
    "    \n",
    "    print(\"Query: \", query)\n",
    "    result_df = query_api.query_data_frame(query=query)\n",
    "    return result_df"
   ]
  },
  {
   "cell_type": "code",
   "execution_count": null,
   "metadata": {},
   "outputs": [],
   "source": [
    "curl -X POST 'http://127.0.0.1:5000/predict/temp' -d '{\"dates\":[\"2024-05-03 00:00:00.000000000\",\"2024-05-03 01:00:00.000000000\",\"2024-05-03 02:00:00.000000000\",\"2024-05-03 03:00:00.000000000\",\"2024-05-03 04:00:00.000000000\",\"2024-05-03 05:00:00.000000000\",\"2024-05-03 06:00:00.000000000\",\"2024-05-03 07:00:00.000000000\",\"2024-05-03 08:00:00.000000000\",\"2024-05-03 09:00:00.000000000\",\"2024-05-03 10:00:00.000000000\",\"2024-05-03 11:00:00.000000000\",\"2024-05-03 12:00:00.000000000\",\"2024-05-03 13:00:00.000000000\",\"2024-05-03 14:00:00.000000000\",\"2024-05-03 15:00:00.000000000\",\"2024-05-03 16:00:00.000000000\",\"2024-05-03 17:00:00.000000000\",\"2024-05-03 18:00:00.000000000\",\"2024-05-03 19:00:00.000000000\",\"2024-05-03 20:00:00.000000000\",\"2024-05-03 21:00:00.000000000\",\"2024-05-03 22:00:00.000000000\",\"2024-05-03 23:00:00.000000000\"]}' -H \"Content-Type: application/json\"\n",
    "curl -X POST 'http://127.0.0.1:5000/predict/temp' -d '{\"dates\":[\"2024-05-09 00:00:00\",\"2024-05-09 00:01:00\"], \"values\":[21.00, 21.4]}' -H \"Content-Type: application/json\""
   ]
  }
 ],
 "metadata": {
  "kernelspec": {
   "display_name": "base",
   "language": "python",
   "name": "python3"
  },
  "language_info": {
   "name": "python",
   "version": "3.9.12"
  }
 },
 "nbformat": 4,
 "nbformat_minor": 2
}
